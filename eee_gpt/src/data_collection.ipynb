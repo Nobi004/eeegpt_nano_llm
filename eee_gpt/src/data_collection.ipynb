{
 "cells": [
  {
   "cell_type": "code",
   "execution_count": null,
   "id": "67c3d324",
   "metadata": {},
   "outputs": [],
   "source": [
    "# Extract text from pdf book\n",
    "import pdfplumber \n",
    "with pdfplumber.open('data/raw/textbook.pdf') as pdf :\n",
    "    text = ''\n",
    "    for page in pdf.pages:\n",
    "        text += page.extract_text() or ''\n",
    "\n",
    "with open('data/raw/textbook.txt','w',encoding='utf-8') as f:\n",
    "    f.write(text)"
   ]
  },
  {
   "cell_type": "code",
   "execution_count": null,
   "id": "adabb5f3",
   "metadata": {},
   "outputs": [],
   "source": [
    "# Scrap Text from web pages\n",
    "import requests \n",
    "from bs4 import BeautifulSoup \n",
    "\n",
    "url = 'https://ocw.mit.edu/courses/electrical-engineering-and-computer-science/'\n",
    "response = requests.get(url)\n",
    "soup = BeautifulSoup(response.text,'html.parser')\n",
    "text = soup.get_text(separator=' ',strip=True)"
   ]
  },
  {
   "cell_type": "code",
   "execution_count": null,
   "id": "2f6ee1a4",
   "metadata": {},
   "outputs": [],
   "source": [
    "# Concate and Clean Text\n",
    "import os \n",
    "\n",
    "raw_dir = 'data/raw'\n",
    "all_text = ''\n",
    "for filename in os.listdir(raw_dir):\n",
    "    if filename.endswith('txt'):\n",
    "        with open(os.path.join(raw_dir,filename),'r',encoding='utf-8') as f:\n",
    "            all_text += f.read() + '\\n'\n",
    "\n",
    "all_text = ' '.join(all_text.split())\n",
    "\n",
    "with open('data/processed/full_corpus.txt','w',encoding='utf-8') as f:\n",
    "    f.write(all_text)\n",
    "\n"
   ]
  },
  {
   "cell_type": "code",
   "execution_count": null,
   "id": "b1cfa9e3",
   "metadata": {},
   "outputs": [],
   "source": []
  }
 ],
 "metadata": {
  "kernelspec": {
   "display_name": "eeegptenv (3.12.7)",
   "language": "python",
   "name": "python3"
  },
  "language_info": {
   "name": "python",
   "version": "3.12.7"
  }
 },
 "nbformat": 4,
 "nbformat_minor": 5
}
